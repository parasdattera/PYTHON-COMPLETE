{
 "cells": [
  {
   "cell_type": "code",
   "execution_count": 6,
   "metadata": {},
   "outputs": [
    {
     "name": "stdout",
     "output_type": "stream",
     "text": [
      "[0, 1, 2, 3, 4, 5, 6, 7, 8, 9, 45]\n"
     ]
    }
   ],
   "source": [
    "'''  ___________ INSERTION SORT ____________\n",
    "\n",
    "* brute force sorting algorithm\n",
    "* sort elements in ascending or descending order\n",
    "* in every iteration one item from unsorted is moved to sorted part\n",
    "* first element is picked and considered as sorted\n",
    "* then one by one all items will be picked from unsorted part and get compared with the elements \n",
    "    in sorted part until appropriate location is not found for all elements \n",
    "    as per ascending or descending order\n",
    "* this continues till all elements get exhausted\n",
    "  \n",
    "\n",
    "'''\n",
    "\n",
    "# implementation\n",
    "# input -- array of elements\n",
    "# output -- sorted array of elements\n",
    "\n",
    "def insertion_sort(array):\n",
    "    # This is a function definition called insertion_sort that takes an 'array' as input.\n",
    "    # It's designed to sort the elements of the array using the insertion sort algorithm.\n",
    "\n",
    "    # First, we will take all elements from the array one by one.\n",
    "    for index in range(1, len(array)):\n",
    "        # We start a loop that goes from the second element (index 1) to the end of the array.\n",
    "\n",
    "        key = array[index]\n",
    "        # We pick the current element (called the 'key') from the array, starting from the second element.\n",
    "\n",
    "        j = index - 1\n",
    "        # We set 'j' to the index one element before the current element. This is to compare the 'key' with the previous elements.\n",
    "\n",
    "        while j >= 0 and key < array[j]:\n",
    "            # We enter a while loop that continues as long as 'j' is greater than or equal to 0\n",
    "            # and the 'key' is less than the element at index 'j'.\n",
    "\n",
    "            array[j + 1] = array[j]\n",
    "            # If the 'key' is smaller than the element at 'j', we move the element at 'j' one position ahead to make space for the 'key'.\n",
    "\n",
    "            j = j - 1\n",
    "            # We decrement 'j' to continue comparing the 'key' with the previous elements.\n",
    "\n",
    "        array[j + 1] = key\n",
    "        # Once we find the correct position for the 'key' (where it's greater than the previous elements),\n",
    "        # we place the 'key' in that position.\n",
    "\n",
    "data = [1, 7, 8, 9, 5, 6, 4, 2, 3,45,0]\n",
    "# We define an example list of numbers called 'data'.\n",
    "\n",
    "insertion_sort(data)\n",
    "# We call the 'insertion_sort' function to sort the 'data' list using the insertion sort algorithm.\n",
    "\n",
    "print(data)\n",
    "# We print the sorted 'data' list after the insertion sort.\n"
   ]
  }
 ],
 "metadata": {
  "kernelspec": {
   "display_name": "Python 3",
   "language": "python",
   "name": "python3"
  },
  "language_info": {
   "codemirror_mode": {
    "name": "ipython",
    "version": 3
   },
   "file_extension": ".py",
   "mimetype": "text/x-python",
   "name": "python",
   "nbconvert_exporter": "python",
   "pygments_lexer": "ipython3",
   "version": "3.11.4"
  }
 },
 "nbformat": 4,
 "nbformat_minor": 2
}
