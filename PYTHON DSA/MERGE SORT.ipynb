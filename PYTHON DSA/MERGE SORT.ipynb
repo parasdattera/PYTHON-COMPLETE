{
 "cells": [
  {
   "cell_type": "code",
   "execution_count": 17,
   "metadata": {},
   "outputs": [
    {
     "name": "stdout",
     "output_type": "stream",
     "text": [
      "[1, 2, 3, 5, 8, 9]\n"
     ]
    }
   ],
   "source": [
    "'''  __________ MERGE SORT __________\n",
    "\n",
    "In merge sort, the problem is divided into two sub problems in every\n",
    "iteration\n",
    "Hence efficiency is increased drastically\n",
    "It follows divide and conquer approach\n",
    "Divide break the problem into 2 sub problem which continues until\n",
    "set is left with one only\n",
    "Conquer basically merges the 2 sorted array into the\n",
    "original array\n",
    "\n",
    "\n",
    "\n",
    "'''\n",
    "\n",
    "\n",
    "# implementation\n",
    "\n",
    "# this function will break the array into sub arrays[containing minimum 2 element to compare]\n",
    "def mergesort(array):\n",
    "    if len(array)<2:\n",
    "        return array\n",
    "    \n",
    "    mid = len(array)//2\n",
    "    left = mergesort(array[:mid])\n",
    "    right = mergesort(array[mid:])\n",
    "    return merge(left,right)\n",
    "\n",
    "def merge(left,right):\n",
    "    result = []\n",
    "    i,j=0,0\n",
    "    while i<len(left) or j<len(right):\n",
    "        if left[i] <= right[j]:\n",
    "            result.append(left[i])\n",
    "            i += 1\n",
    "        else:\n",
    "            result.append(right[j])\n",
    "            j+=1\n",
    "        if i == len(left) or j == len(right):\n",
    "            result.extend(left[i:] or right[j:]) \n",
    "            break\n",
    "    return result\n",
    "\n",
    "\n",
    "\n",
    "\n",
    "\n",
    "# a=[1,2,3]\n",
    "# b=[8,5,9]\n",
    "# print(merge(a,b))\n",
    "\n",
    "a=[1,2,3,8,5,9]\n",
    "print(mergesort(a))\n",
    "\n",
    "\n"
   ]
  },
  {
   "cell_type": "code",
   "execution_count": null,
   "metadata": {},
   "outputs": [],
   "source": []
  },
  {
   "cell_type": "code",
   "execution_count": null,
   "metadata": {},
   "outputs": [],
   "source": []
  },
  {
   "cell_type": "code",
   "execution_count": null,
   "metadata": {},
   "outputs": [],
   "source": []
  }
 ],
 "metadata": {
  "kernelspec": {
   "display_name": "Python 3",
   "language": "python",
   "name": "python3"
  },
  "language_info": {
   "codemirror_mode": {
    "name": "ipython",
    "version": 3
   },
   "file_extension": ".py",
   "mimetype": "text/x-python",
   "name": "python",
   "nbconvert_exporter": "python",
   "pygments_lexer": "ipython3",
   "version": "3.11.4"
  }
 },
 "nbformat": 4,
 "nbformat_minor": 2
}
