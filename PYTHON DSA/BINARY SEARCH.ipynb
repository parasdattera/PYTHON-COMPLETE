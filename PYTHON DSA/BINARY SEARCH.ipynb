{
 "cells": [
  {
   "cell_type": "code",
   "execution_count": 11,
   "metadata": {},
   "outputs": [
    {
     "name": "stdout",
     "output_type": "stream",
     "text": [
      "5\n"
     ]
    }
   ],
   "source": [
    "''' _______  BINARY SEARCH \n",
    "\n",
    "* binary search is a searching techniques.\n",
    "* used on sorted array\n",
    "* divide and conquer strategy search space reduces to half in every iteration\n",
    "* very efficient technique for searching but it needs some order on which partition\n",
    "    of the array will occur\n",
    "\n",
    "\n",
    "'''\n",
    "\n",
    "# implementation \n",
    "# function input -- array(from where element will be searched),\n",
    "#                   value(it will be searched),\n",
    "#                   low_index(first index of the array)\n",
    "#                   high_index(last index of the array)\n",
    "\n",
    "\n",
    "def binary_search(array,value):\n",
    "    low_index=0\n",
    "    high_index=len(array)-1\n",
    "    while low_index<=high_index:\n",
    "        mid_index = low_index+(high_index - low_index)//2\n",
    "        \n",
    "        if array[mid_index] == value:\n",
    "            return mid_index\n",
    "\n",
    "        elif array[mid_index]<value:\n",
    "            low_index = mid_index+1\n",
    "        else:\n",
    "            high_index = mid_index-1\n",
    "    return -1\n",
    "\n",
    "array= [1,2,3,74,5,6]\n",
    "Value= 6\n",
    "result = binary_search(array,Value)\n",
    "print(result)\n",
    "\n",
    "    \n",
    "\n",
    "\n",
    "\n",
    "\n"
   ]
  }
 ],
 "metadata": {
  "kernelspec": {
   "display_name": "Python 3",
   "language": "python",
   "name": "python3"
  },
  "language_info": {
   "codemirror_mode": {
    "name": "ipython",
    "version": 3
   },
   "file_extension": ".py",
   "mimetype": "text/x-python",
   "name": "python",
   "nbconvert_exporter": "python",
   "pygments_lexer": "ipython3",
   "version": "3.11.4"
  }
 },
 "nbformat": 4,
 "nbformat_minor": 2
}
