{
 "cells": [
  {
   "cell_type": "code",
   "execution_count": 13,
   "metadata": {},
   "outputs": [
    {
     "name": "stdout",
     "output_type": "stream",
     "text": [
      "[1, 2, 4, 5, 6, 8, 9]\n"
     ]
    }
   ],
   "source": [
    "'''  ___________ SELECTION SORT  _______________\n",
    "\n",
    "* simple sort algorithm revolves around comparison\n",
    "* in each iteration one element gets placed\n",
    "* we choose minimum value element from array and place at beginning of the array by swapping it\n",
    "    with element at front\n",
    "* we can also do that choosing maximum element and placing at rear end\n",
    "'''\n",
    "\n",
    "\n",
    "def selection_sort(array):\n",
    "    size = len(array)\n",
    "    for i in range(size):\n",
    "        min_value_index=i\n",
    "        for j in range(i+1,size):\n",
    "            if array[j]<array[min_value_index]:\n",
    "                min_value_index = j\n",
    "        array[i],array[min_value_index]=array[min_value_index],array[i]\n",
    "data = [1,2,4,8,5,9,6]\n",
    "selection_sort(data)\n",
    "print(data)\n"
   ]
  },
  {
   "cell_type": "code",
   "execution_count": null,
   "metadata": {},
   "outputs": [],
   "source": []
  }
 ],
 "metadata": {
  "kernelspec": {
   "display_name": "Python 3",
   "language": "python",
   "name": "python3"
  },
  "language_info": {
   "codemirror_mode": {
    "name": "ipython",
    "version": 3
   },
   "file_extension": ".py",
   "mimetype": "text/x-python",
   "name": "python",
   "nbconvert_exporter": "python",
   "pygments_lexer": "ipython3",
   "version": "3.11.4"
  }
 },
 "nbformat": 4,
 "nbformat_minor": 2
}
