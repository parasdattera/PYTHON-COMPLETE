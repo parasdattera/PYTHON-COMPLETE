{
 "cells": [
  {
   "cell_type": "code",
   "execution_count": 27,
   "metadata": {},
   "outputs": [
    {
     "data": {
      "text/plain": [
       "[None, None, None, None, None, None, None, None, None, 200]"
      ]
     },
     "execution_count": 27,
     "metadata": {},
     "output_type": "execute_result"
    }
   ],
   "source": [
    "'''   _____ Hash tables ______\n",
    "\n",
    "hashing is a technique to convert data(any ds) into hash code(fixed size numberical value) by hash function\n",
    "\n",
    "different type of ds ---> hash function ---> hash code(key)\n",
    "\"march 6\" ---> sum_of_all_ascii_values(609)%10(if size of array is 10) ---> 9(key) \n",
    "\n",
    "hash table is ds that allows to store and retreive collection of different data types\n",
    "in key value pairs (key should be unique)\n",
    "\n",
    "tc of look up by key is O(1)\n",
    "tc of insertion/deletion is also O(1)\n",
    "\n",
    "and array ds has tc of O(n) thats why if ds is string then hash table should be used\n",
    "\n",
    "in python we have built-in ds dictionary which is form of a hash table.\n",
    "\n",
    "\n",
    "'''\n",
    "\n",
    "\n",
    "# hash table implementation using custome class and function\n",
    "\n",
    "# creating hashing function -- it should take key from user and convert into ascii value then store in sum and then mod by 10(if array size is 10)\n",
    "\n",
    "def get_hash(key):\n",
    "    sum=0\n",
    "    for c in key:\n",
    "        sum+=ord(c)  # ord will convert into ascii value\n",
    "    return sum % 10\n",
    "\n",
    "# creating hash table class -- it will create table of hashed values\n",
    "class HashTable:\n",
    "    def __init__(self):\n",
    "        self.MAX = 10 # initializing size limit(array limit) to 10\n",
    "        self.arr=[None]*self.MAX # it will create empty hash table ,10 None values inside \n",
    "\n",
    "    def Get_Hash(self,key):\n",
    "        sum=0\n",
    "        for c in key:\n",
    "            sum+=ord(c)\n",
    "        return sum%self.MAX\n",
    "    \n",
    "    # using python inbuilt method __setitem__ (is a special method in Python that you can define within your own classes to customize how instances of that class handle item assignment using square brackets, similar to the way dictionaries and lists work)\n",
    "    def __setitem__(self,key,val):\n",
    "        h = self.Get_Hash(key)\n",
    "        self.arr[h] = val\n",
    "\n",
    "    # using python inbuilt method __getitem__ (is a special method to find values from key like dictionary or list)\n",
    "    def __getitem__(self,key):\n",
    "        h=self.Get_Hash(key)\n",
    "        return self.arr[h]\n",
    "    \n",
    "    def __delitem__(self,key):\n",
    "        h=self.Get_Hash(key)\n",
    "        self.arr[h]=None\n",
    "\n",
    "h=HashTable()\n",
    "h['march 6']=200\n",
    "h['march 4']=400\n",
    "\n",
    "h['march 6']\n",
    "del h['march 4']\n",
    "h['march 4']\n",
    "h.arr"
   ]
  }
 ],
 "metadata": {
  "kernelspec": {
   "display_name": "Python 3",
   "language": "python",
   "name": "python3"
  },
  "language_info": {
   "codemirror_mode": {
    "name": "ipython",
    "version": 3
   },
   "file_extension": ".py",
   "mimetype": "text/x-python",
   "name": "python",
   "nbconvert_exporter": "python",
   "pygments_lexer": "ipython3",
   "version": "3.11.4"
  }
 },
 "nbformat": 4,
 "nbformat_minor": 2
}
