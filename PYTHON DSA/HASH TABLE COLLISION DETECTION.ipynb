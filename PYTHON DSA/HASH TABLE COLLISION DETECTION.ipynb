{
 "cells": [
  {
   "cell_type": "code",
   "execution_count": 10,
   "metadata": {},
   "outputs": [
    {
     "data": {
      "text/plain": [
       "[None, None, None, None, None, None, None, None, None, 110]"
      ]
     },
     "execution_count": 10,
     "metadata": {},
     "output_type": "execute_result"
    }
   ],
   "source": [
    "'''  _______  HASH TABLE COLLISION DETECTION AND SOLUTION  _________\n",
    "\n",
    "in hash table if size is small and elements are taking same hash code value then\n",
    "in table it will only store one hash value which is last modified that is the \n",
    "hash table collision\n",
    "\n",
    "solution -- 1. by separate chaining -- in this in each hash code value the all value will be \n",
    "                                        stored like lnked list\n",
    "                                        for example if two key value pair generating same hash value then\n",
    "                                        in memory both will be store as (tuple) in linked list\n",
    "                                        and it will make tc of hash table O(n)\n",
    "            \n",
    "            2. by linear probing -- if two or more key value pair generating same hash code then\n",
    "                                        it will find next empty slot memory location and occupy space in\n",
    "                                        memory.\n",
    "\n",
    "\n",
    "'''\n",
    "\n",
    "\n",
    "\n",
    "# creating class for hash table\n",
    "class HashTable:\n",
    "    def __init__(self):\n",
    "        self.MAX = 10 \n",
    "        self.arr=[None]*self.MAX \n",
    "\n",
    "    def Get_Hash(self,key):\n",
    "        sum=0\n",
    "        for c in key:\n",
    "            sum+=ord(c)\n",
    "        return sum%self.MAX\n",
    "    \n",
    "    def __setitem__(self,key,val):\n",
    "        h = self.Get_Hash(key)\n",
    "        self.arr[h] = val\n",
    "\n",
    "    def __getitem__(self,key):\n",
    "        h=self.Get_Hash(key)\n",
    "        return self.arr[h]\n",
    "\n",
    "\n",
    "\n",
    "# testing the issue\n",
    "\n",
    "t = HashTable()\n",
    "t[\"march 6\"] = 120\n",
    "t[\"march 17\"] = 110\n",
    "# t.Get_Hash(\"march 17\")\n",
    "# t.Get_Hash(\"march 6\")\n",
    "t.arr\n",
    "\n",
    "# as you can see in the above both are taking index 9 in hash table and this create collision b/w values\n",
    "# we can solve the collision by separete chaining , we need to just modify where h is used to linked list"
   ]
  },
  {
   "cell_type": "code",
   "execution_count": 46,
   "metadata": {},
   "outputs": [],
   "source": [
    "# implementing separate chaining\n",
    "\n",
    "# 1st replace the none values in empty array to empty list which will store multiple items\n",
    "\n",
    "class HashTable:\n",
    "    def __init__(self):\n",
    "        self.MAX = 10 \n",
    "        self.arr= [[] for i in range(self.MAX)]\n",
    "\n",
    "    def Get_Hash(self,key):\n",
    "        hash=0\n",
    "        for char in key:\n",
    "            hash+=ord(char)\n",
    "        return hash%self.MAX\n",
    "    \n",
    "    def __getitem__(self,key):\n",
    "        h=self.Get_Hash(key)\n",
    "        for kv in self.arr[h]:\n",
    "            if kv[0]==key:\n",
    "                return kv[1]\n",
    "    \n",
    "    def __setitem__(self,key,val):\n",
    "        h = self.Get_Hash(key)\n",
    "\n",
    "        found=False\n",
    "        for idx,element in enumerate(self.arr[h]):\n",
    "            if len(element)==2 and element[0]==key:\n",
    "                self.arr[h][idx]=(key,val)  \n",
    "                found=True\n",
    "\n",
    "        if not found:\n",
    "            self.arr[h].append((key, val))\n",
    "\n",
    "    def __delitem__(self,key):\n",
    "        arr_index=self.Get_Hash(key)\n",
    "        for index,kv in enumerate(self.arr[arr_index]):\n",
    "            if kv[0]==key:\n",
    "                print(f\"Deleting element at index : {index}\")\n",
    "                del self.arr[arr_index][index]\n",
    "            \n"
   ]
  },
  {
   "cell_type": "code",
   "execution_count": 48,
   "metadata": {},
   "outputs": [
    {
     "data": {
      "text/plain": [
       "[[], [], [], [], [], [], [], [], [], [('march 6', 120), ('march 17', 200)]]"
      ]
     },
     "execution_count": 48,
     "metadata": {},
     "output_type": "execute_result"
    }
   ],
   "source": [
    "t=HashTable()\n",
    "t[\"march 6\"] = 120\n",
    "t[\"march 17\"] =200\n",
    "t.arr\n",
    "\n",
    "\n"
   ]
  },
  {
   "cell_type": "code",
   "execution_count": 49,
   "metadata": {},
   "outputs": [
    {
     "name": "stdout",
     "output_type": "stream",
     "text": [
      "Deleting element at index : 1\n"
     ]
    }
   ],
   "source": [
    "del t[\"march 17\"]"
   ]
  },
  {
   "cell_type": "code",
   "execution_count": 50,
   "metadata": {},
   "outputs": [
    {
     "data": {
      "text/plain": [
       "[[], [], [], [], [], [], [], [], [], [('march 6', 120)]]"
      ]
     },
     "execution_count": 50,
     "metadata": {},
     "output_type": "execute_result"
    }
   ],
   "source": [
    "t.arr\n"
   ]
  },
  {
   "cell_type": "code",
   "execution_count": 3,
   "metadata": {},
   "outputs": [],
   "source": [
    "# implementing linear probing solution for collision \n",
    "\n",
    "# creating hash table\n",
    "\n",
    "class HashTable:\n",
    "    def __init__(self):\n",
    "        self.MAX = 10 \n",
    "        self.arr= [None for i in range(self.MAX)]\n",
    "\n",
    "    def Get_Hash(self,key):\n",
    "        hash=0\n",
    "        for char in key:\n",
    "            hash+=ord(char)\n",
    "        return hash%self.MAX\n",
    "    \n",
    "    # this below funciton will return range of array \n",
    "    def get_prob_range(self,index):\n",
    "        return [*range(index,len(self.arr))]+ [*range(0,index)]\n",
    "    \n",
    "\n",
    "\n",
    "    def __getitem__(self,key):\n",
    "        h=self.Get_Hash(key)\n",
    "        # if on that particular index is None then it should return none as in linear probing \n",
    "        # if element is not in that index then some other item is already present in it\n",
    "        if self.arr[h] is None:\n",
    "            return\n",
    "        # now it means some item is in that index  \n",
    "        # we need to search on all indexes of array if key matched then return item\n",
    "        prob_range = self.get_prob_range(h) # this will return all range of array\n",
    "        for prob_index in prob_range:\n",
    "            element = self.arr[prob_index]\n",
    "            if element is None:\n",
    "                return\n",
    "            if element[0] == key: # if element at any index in array found then return item\n",
    "                return element[1]\n",
    "    \n",
    "\n",
    "\n",
    "    def __setitem__(self,key,val):\n",
    "        h = self.Get_Hash(key)\n",
    "        # if element on that index is none then it should directly set the none to new values\n",
    "        if self.arr[h] is None:\n",
    "            self.arr[h]=(key,val)\n",
    "        else:\n",
    "            # else we need to find empty neighbour slot for setting the item\n",
    "            new_h=self.find_slot(key,h) # this function will return empty none value index\n",
    "            self.arr[new_h] = (key,val)\n",
    "        print(self.arr)\n",
    "\n",
    "    def find_slot(self,key,index):\n",
    "        prob_range = self.get_prob_range(index) # it will get complete range of array\n",
    "        for prob_index in prob_range:\n",
    "            if self.arr[prob_index] is None:  # if at index found empty then return that index\n",
    "                return prob_index\n",
    "            if self.arr[prob_index][0] ==key: # if at index found the key then \n",
    "                return prob_index               # return that index to replace with new value\n",
    "        raise Exception(\"Hashmap full !\") # otherwise raise exception\n",
    "\n",
    "        \n",
    "    def __delitem__(self,key):\n",
    "        h=self.Get_Hash(key)\n",
    "        prob_range=self.get_prob_range(h)\n",
    "        for prob_index in prob_range:\n",
    "            if self.arr[prob_index] is None:\n",
    "                return\n",
    "            if self.arr[prob_index][0] == key:\n",
    "                self.arr[prob_index]=None\n",
    "        print(self.arr)\n",
    "\n",
    "    \n",
    "\n",
    "\n",
    "\n",
    "            \n",
    "                \n",
    "\n",
    "        \n",
    "            "
   ]
  },
  {
   "cell_type": "code",
   "execution_count": 9,
   "metadata": {},
   "outputs": [
    {
     "name": "stdout",
     "output_type": "stream",
     "text": [
      "[None, None, None, None, None, None, None, None, None, ('march 6', 20)]\n",
      "[('march 17', 88), None, None, None, None, None, None, None, None, ('march 6', 20)]\n"
     ]
    }
   ],
   "source": [
    "t= HashTable()\n",
    "t.Get_Hash(\"march 17\")\n",
    "t.Get_Hash(\"march 6\")\n",
    "# both has same hash code\n",
    "t[\"march 6\"] = 20\n",
    "t[\"march 17\"] = 88\n",
    "# as both has same hash code thats why \"march 17\" is not setting on the same hash code index value \n",
    "# instead it found an empty index and set on that index\n"
   ]
  }
 ],
 "metadata": {
  "kernelspec": {
   "display_name": "Python 3",
   "language": "python",
   "name": "python3"
  },
  "language_info": {
   "codemirror_mode": {
    "name": "ipython",
    "version": 3
   },
   "file_extension": ".py",
   "mimetype": "text/x-python",
   "name": "python",
   "nbconvert_exporter": "python",
   "pygments_lexer": "ipython3",
   "version": "3.11.4"
  }
 },
 "nbformat": 4,
 "nbformat_minor": 2
}
