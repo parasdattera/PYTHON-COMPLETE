{
 "cells": [
  {
   "cell_type": "code",
   "execution_count": 6,
   "metadata": {},
   "outputs": [
    {
     "name": "stdout",
     "output_type": "stream",
     "text": [
      "elemnt found at index :  5\n"
     ]
    }
   ],
   "source": [
    "''' ________ LINEAR SEARCH ______\n",
    "\n",
    "* Approach to search for element in linear data structure\n",
    "* it checks each and every element for the element to be searched.\n",
    "\n",
    "'''\n",
    "\n",
    "\n",
    "# implementation\n",
    "\n",
    "# creating function \n",
    "# function input -- value to be search , array in which value to be searched\n",
    "                    # size of array from where search will begin\n",
    "\n",
    "\n",
    "def linear_search(array,value,size):\n",
    "    for i in range(0,size):\n",
    "        if (array[i]==value):\n",
    "            return i\n",
    "    return -1\n",
    "\n",
    "array=[1,2,3,5,4,6,\"hello\",\"world\"]\n",
    "value=6\n",
    "size = len(array)\n",
    "result = linear_search(array,value,size)\n",
    "if result == -1:\n",
    "    print(\"element not found\")\n",
    "else:\n",
    "    print(\"elemnt found at index : \",result)"
   ]
  }
 ],
 "metadata": {
  "kernelspec": {
   "display_name": "Python 3",
   "language": "python",
   "name": "python3"
  },
  "language_info": {
   "codemirror_mode": {
    "name": "ipython",
    "version": 3
   },
   "file_extension": ".py",
   "mimetype": "text/x-python",
   "name": "python",
   "nbconvert_exporter": "python",
   "pygments_lexer": "ipython3",
   "version": "3.12.4"
  }
 },
 "nbformat": 4,
 "nbformat_minor": 2
}
