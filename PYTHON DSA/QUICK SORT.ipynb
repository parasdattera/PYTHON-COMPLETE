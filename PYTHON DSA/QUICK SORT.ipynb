{
 "cells": [
  {
   "cell_type": "code",
   "execution_count": 1,
   "metadata": {},
   "outputs": [
    {
     "name": "stdout",
     "output_type": "stream",
     "text": [
      "[1, 2, 3, 4, 5, 6, 7, 8, 9]\n"
     ]
    }
   ],
   "source": [
    "'''  ______ QUICK SORT ________\n",
    "\n",
    "It is one of the most widely used sorting algorithm\n",
    "It follows divide and conquer paradigm\n",
    "Recursion is used in quicksort implementation\n",
    "In each recursive call, a pivot is chosen then the array is partitioned in such a way\n",
    "that all the elements less than pivot lie to the left and all the elements greater\n",
    "than pivot lie to the right\n",
    "After every call, the chosen pivot occupies its correct position in\n",
    "the array which it is supposed to as in sorted array\n",
    "So with each step, our problem gets reduced by 2 which leads to\n",
    "quick sorting\n",
    "Pivot can be last element of current array, first element of current\n",
    "array, or any random element\n",
    "\n",
    "'''\n",
    "\n",
    "# implementation\n",
    "\n",
    "def QuickSort(array):\n",
    "    if len(array)<=1:\n",
    "        return array\n",
    "    else:\n",
    "        pivot = array.pop()\n",
    "    greater = []\n",
    "    lower = []\n",
    "\n",
    "    for i in array:\n",
    "        if i>pivot:\n",
    "            greater.append(i)\n",
    "        else:\n",
    "            lower.append(i)\n",
    "    return QuickSort(lower) + [pivot] + QuickSort(greater)\n",
    "\n",
    "array = [1,4,7,8,5,2,3,6,9]\n",
    "print(QuickSort(array))\n",
    "  \n"
   ]
  }
 ],
 "metadata": {
  "kernelspec": {
   "display_name": "Python 3",
   "language": "python",
   "name": "python3"
  },
  "language_info": {
   "codemirror_mode": {
    "name": "ipython",
    "version": 3
   },
   "file_extension": ".py",
   "mimetype": "text/x-python",
   "name": "python",
   "nbconvert_exporter": "python",
   "pygments_lexer": "ipython3",
   "version": "3.11.4"
  }
 },
 "nbformat": 4,
 "nbformat_minor": 2
}
