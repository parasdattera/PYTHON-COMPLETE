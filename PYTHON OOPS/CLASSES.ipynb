{
 "cells": [
  {
   "cell_type": "code",
   "execution_count": null,
   "metadata": {},
   "outputs": [],
   "source": [
    "'''\n",
    "classes are uder defined prototype for objects\n",
    "\n",
    "classes are blueprints for the objects\n",
    "\n",
    "we need to use self keyword in class method --\n",
    "\n",
    "self allows each instance of a class to have its own set of attributes and methods. Without self, \n",
    "you wouldn't be able to distinguish between variables and methods that belong to different instances(objects created at runtime) \n",
    "of the same class.\n",
    "\n",
    "\n",
    "'''"
   ]
  },
  {
   "cell_type": "code",
   "execution_count": 15,
   "metadata": {},
   "outputs": [
    {
     "name": "stdout",
     "output_type": "stream",
     "text": [
      "lucky says woof!\n",
      "lucky is of mustif breed. \n",
      "mustif\n",
      "lucky\n"
     ]
    }
   ],
   "source": [
    "# class example\n",
    "\n",
    "class Dog:\n",
    "    def __init__(self,name,breed) -> None:\n",
    "        self.name = name\n",
    "        self.breed = breed\n",
    "    \n",
    "    def Bark(self):\n",
    "        return f\"{self.name} says woof!\"\n",
    "    \n",
    "    def getBreed(self):\n",
    "        return f'{self.name} is of {self.breed} breed. '\n",
    "    \n",
    "\n",
    "a  = Dog(\"lucky\",'mustif')\n",
    "print(a.Bark())\n",
    "print(a.getBreed())\n",
    "print(a.breed)\n",
    "print(a.name)\n"
   ]
  }
 ],
 "metadata": {
  "kernelspec": {
   "display_name": "Python 3",
   "language": "python",
   "name": "python3"
  },
  "language_info": {
   "codemirror_mode": {
    "name": "ipython",
    "version": 3
   },
   "file_extension": ".py",
   "mimetype": "text/x-python",
   "name": "python",
   "nbconvert_exporter": "python",
   "pygments_lexer": "ipython3",
   "version": "3.12.4"
  }
 },
 "nbformat": 4,
 "nbformat_minor": 2
}
