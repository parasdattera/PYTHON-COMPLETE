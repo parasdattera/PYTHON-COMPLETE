{
 "cells": [
  {
   "cell_type": "code",
   "execution_count": null,
   "metadata": {},
   "outputs": [],
   "source": [
    "'''\n",
    "\n",
    "In Object-Oriented Programming (OOP), an object is an instance of a class. It is a concrete representation of a class, holding actual data and providing access to the class's methods.\n",
    "\n",
    "Key Concepts of Objects\n",
    "\n",
    "Instance of a Class:\n",
    "\n",
    "An object is created from a class, which acts as a blueprint. When you create an object, you're making a specific instance of that class.\n",
    "\n",
    "Attributes and Methods:\n",
    "\n",
    "An object has attributes (variables) that hold data specific to the object and methods (functions) that define the behavior of the object.\n",
    "\n",
    "Encapsulation:\n",
    "\n",
    "Objects encapsulate data and the methods that operate on that data, providing a clear structure and making code more modular.\n",
    "\n",
    "'''"
   ]
  },
  {
   "cell_type": "code",
   "execution_count": null,
   "metadata": {},
   "outputs": [],
   "source": [
    "class Car:\n",
    "    def __init__(self, make, model, year):\n",
    "        # These are instance variables, each object will have its own copy\n",
    "        self.make = make\n",
    "        self.model = model\n",
    "        self.year = year\n",
    "\n",
    "    def start_engine(self):\n",
    "        # Method to simulate starting the engine\n",
    "        print(f\"The {self.year} {self.make} {self.model}'s engine has started.\")\n",
    "\n",
    "    def stop_engine(self):\n",
    "        # Method to simulate stopping the engine\n",
    "        print(f\"The {self.year} {self.make} {self.model}'s engine has stopped.\")\n",
    "\n",
    "\n",
    "# Creating an object (instance) of the Car class\n",
    "my_car = Car(\"Toyota\", \"Corolla\", 2021)\n",
    "\n",
    "# Accessing the object's attributes\n",
    "print(my_car.make)  # Output: Toyota\n",
    "print(my_car.model) # Output: Corolla\n",
    "print(my_car.year)  # Output: 2021\n",
    "\n",
    "\n",
    "# Calling methods on the object\n",
    "my_car.start_engine()  # Output: The 2021 Toyota Corolla's engine has started.\n",
    "my_car.stop_engine()   # Output: The 2021 Toyota Corolla's engine has stopped.\n",
    "\n",
    "\n",
    "\n",
    "\n"
   ]
  }
 ],
 "metadata": {
  "language_info": {
   "name": "python"
  }
 },
 "nbformat": 4,
 "nbformat_minor": 2
}
