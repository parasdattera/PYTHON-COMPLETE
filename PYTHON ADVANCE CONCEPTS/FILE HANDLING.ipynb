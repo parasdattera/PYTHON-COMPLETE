{
 "cells": [
  {
   "cell_type": "code",
   "execution_count": 16,
   "metadata": {},
   "outputs": [
    {
     "name": "stdout",
     "output_type": "stream",
     "text": [
      "<_io.TextIOWrapper name='text.txt' mode='r' encoding='cp1252'>\n"
     ]
    }
   ],
   "source": [
    "''' _____________ FILE HANDLING ___________\n",
    "\n",
    "* opening files  -- using open()\n",
    "* performing operations on files  -- write()\n",
    "* closing files -- close()\n",
    "\n",
    "* file modes are used with open() , when file is opened then file.write() is used  , then for closing file \n",
    "                            close() is used.\n",
    "\n",
    "\n",
    "        open('file_name.txt','r') -- for opening file for reading content.\n",
    "        open('file_name.txt','w') -- This mode opens the file for writing. \n",
    "                                    If the file already exists, it will be truncated (emptied). \n",
    "                                    If it doesn't exist, a new file will be created.\n",
    "        open('file_name.txt','a') -- This mode opens the file for writing, \n",
    "                                    but it does not truncate the file if it already exists. \n",
    "                                    New data is added to the end of the file.\n",
    "        open('file_name.txt','rb') -- This mode is used to read binary files. \n",
    "                                    It's similar to the read mode, but it reads the file in binary mode.\n",
    "        open('file_name.txt','wb') -- This mode is used to write binary data to a file.\n",
    "        open('file_name.txt','r/w',encoding='utf-8') -- allow to use special emojis and different types of characters\n",
    "                                    You can specify an encoding to open a text file for \n",
    "                                    reading/writing with a specific character encoding, such as 'utf-8'.\n",
    "        open('file_name.txt','r+') --  This mode allows both reading and writing in the same file.\n",
    "        open('file_name.txt','a+') -- This mode allows both reading and appending to the end of the file.\n",
    "        open('file_name.txt','x') --  used to open a file for writing, but it will fail if the file already exists.\n",
    "                                     If the file doesn't exist, it will be created.\n",
    "\n",
    "        The modes 'r', 'rb', 'r+', 'a+', 'w', 'wb', 'w+', and 'x' are used with open method and \n",
    "        then write() function is used to write content into it, \n",
    "        while the close() function does not depend on the file mode. \n",
    "        The close() function is used to close the file, regardless of how it was opened.\n",
    "\n",
    "        \n",
    "* syntax  ----    open(fileName,mode,buffering,encoding,errors,newline,closed)\n",
    "\n",
    "* name,mode,encoding,closed -- are file object variables \n",
    "\n",
    "* closed -- boolean value , shows file closed or not (automaticly false when file opened and true when close)\n",
    "\n",
    "* buffering - positive integer value used to set buffer size for file.\n",
    "                in text mode buffer size should be set to 1 or more than 1.\n",
    "                in binary mode buffer size can be set to 0\n",
    "                default value for buffer size is 4096-8192 bytes.\n",
    "\n",
    "* encoding -  refers to the way characters are represented and stored in a file. \n",
    "            It specifies how textual data, which includes characters, \n",
    "            is converted into a sequence of bytes that can be stored in a file and \n",
    "            later retrieved and decoded back into characters.\n",
    "\n",
    "            encoding type used to decode and encode file.\n",
    "            should be used in text mode only.\n",
    "            default value depends on OS.\n",
    "            for windows default is cp1252 , but mostly used for web is UTF-8\n",
    "\n",
    "* errors - how encoding and decoding errors are to be handled.    \n",
    "            it cannot be used while binary mode.\n",
    "            standard values for errors are\n",
    "                            1. strict(default) -- an error message will be given for any error comes while opening file\n",
    "                            2. ignore -- it ignore if any error comes while opening file\n",
    "                            3. replace -- if encoding type is not able to support text in file then value inside \n",
    "                                            replace will be set to it and can be seen while reading(replace='�')\n",
    "\n",
    "* newline - it can be \\n ,\\r ,\\r\\n -- in text file if there are multiple lines \n",
    "                    then new line will have this type of characters \n",
    "                    we need to replace it with own choice characters as per conveniences\n",
    "\n",
    "'''\n",
    "\n",
    "# opening a file\n",
    "# syntax  -- f = open(fileName,mode,buffering,encoding,errors,newline,closefd)\n",
    "# sample\n",
    "\n",
    "# f = open('text.txt','w')\n",
    "# if f:\n",
    "#     print(\"file successfully opened\")\n",
    "#     print(f)\n",
    "\n",
    "# buffering - positive integer value used to set buffer size for file.\n",
    "\n",
    "\n",
    "f=open('text.txt',mode='r',buffering=10)\n",
    "# f here is file handler(object which is responsible for opening , handling files )\n",
    "\n",
    "# closing a file -- it is necessary as possible outcomes if file is remained opened is data will corrupt or memory wastage.\n",
    "f.close()\n",
    "\n",
    "\n",
    "\n"
   ]
  },
  {
   "cell_type": "code",
   "execution_count": 9,
   "metadata": {},
   "outputs": [
    {
     "name": "stdout",
     "output_type": "stream",
     "text": [
      "file name is :  text.txt\n",
      "encoding is :  UTF-8\n",
      "mode is :  r\n",
      "is file closed ?:  False\n",
      "is file closed ?:  True\n"
     ]
    }
   ],
   "source": [
    "\n",
    "f = open('text.txt',mode='r',encoding='UTF-8')\n",
    "print(\"file name is : \",f.name)\n",
    "print(\"encoding is : \",f.encoding)\n",
    "print(\"mode is : \",f.mode)\n",
    "print(\"is file closed ?: \",f.closed)\n",
    "f.close()\n",
    "print(\"is file closed ?: \",f.closed)\n"
   ]
  },
  {
   "cell_type": "code",
   "execution_count": 22,
   "metadata": {},
   "outputs": [
    {
     "name": "stdout",
     "output_type": "stream",
     "text": [
      "Is file readable ? :   True\n",
      "Is file writable ? :   False\n",
      "Is file readable ? :   True\n",
      "Is file writable ? :   True\n",
      "file is readable . \n",
      "file is not writable\n"
     ]
    }
   ],
   "source": [
    "# file object methods\n",
    "\n",
    "# 1. readable()\n",
    "# 2. writable()\n",
    "\n",
    "f = open('text.txt',mode='r')\n",
    "print(\"Is file readable ? :  \",f.readable())\n",
    "print(\"Is file writable ? :  \",f.writable())\n",
    "\n",
    "\n",
    "b = open('text.txt',mode='w+')\n",
    "print(\"Is file readable ? :  \",b.readable())\n",
    "print(\"Is file writable ? :  \",b.writable())\n",
    "\n",
    "if b.readable():\n",
    "    print(\"file is readable . \")\n",
    "\n",
    "    \n",
    "if f.writable():\n",
    "    print(\"file is writable . \")\n",
    "else:\n",
    "    print(\"file is not writable\")"
   ]
  },
  {
   "cell_type": "code",
   "execution_count": 32,
   "metadata": {},
   "outputs": [
    {
     "name": "stdout",
     "output_type": "stream",
     "text": [
      "False\n"
     ]
    }
   ],
   "source": [
    "# if we try to open existing file then it can give exception and normal flow of program will be broken\n",
    "# so we use isfile(\"file_name\") method to open existing file then it will not break normal flow of program\n",
    "\n",
    "import os.path\n",
    "print(os.path.isfile(\"hello.txt\"))\n",
    "\n",
    "# we can use isfile() method to avoid any exceptions and errors in normal flow of program\n",
    "\n",
    "# sample\n",
    "file_name= \"text.txt\"\n",
    "if os.path.isfile(file_name):\n",
    "    f=open(file_name)\n",
    "    f.close()\n",
    "else:\n",
    "    print(\"file not found!\")\n"
   ]
  },
  {
   "cell_type": "code",
   "execution_count": 35,
   "metadata": {},
   "outputs": [
    {
     "name": "stdout",
     "output_type": "stream",
     "text": [
      "hello world\n"
     ]
    }
   ],
   "source": [
    "# ways of closing files\n",
    "\n",
    "# 1. by using close() -- sometime while performing operations on file exception can occur and normal flow of program will stop\n",
    "#                        then file will get corrupt so to avoid such mistakes we need to use exception handling\n",
    "\n",
    "# 2. by exception handling -- syntax:\n",
    "try:\n",
    "    f=open('text.txt',mode='r')\n",
    "finally: # in finally block we can use close() method as finally block always runs whether any exceptions occurs\n",
    "    f.close()\n",
    "\n",
    "\n",
    "\n",
    "# 3. by using with statment -this is best way as it will surely autmaticly close file after operations- syntax: \n",
    "with open('text.txt',mode='r') as f:\n",
    "    # operations\n",
    "    data = f.read()\n",
    "    print(data)\n",
    "\n",
    "\n",
    "\n",
    "\n"
   ]
  },
  {
   "cell_type": "code",
   "execution_count": 38,
   "metadata": {},
   "outputs": [
    {
     "name": "stdout",
     "output_type": "stream",
     "text": [
      "hello world\n",
      "this is text.txt file\n",
      "this is third line of file\n",
      "\n",
      "b'hello world\\r\\nthis is text.txt file\\r\\nthis is third line of file'\n"
     ]
    }
   ],
   "source": [
    "# mode of opening file \n",
    "\n",
    "# text modes (r,w,a,r+,w+,x,a+)-- decoding and encoding performed (used for text files)\n",
    "#                   when you open a file in text modes, python treats it's\n",
    "#                   content as \"str\" type.\n",
    "#                   When you get data from a text mode file, python first\n",
    "#                   decodes the raw bytes using either a platform dependent\n",
    "#                   encoding or specified encoding(like utf-8).\n",
    "\n",
    "# binary modes (rb,wb,ab,xb,rb+,wb+,ab+) -- without any encoding or decoding(used for audio ,video files)\n",
    "#                   When you open a file for binary mode, python uses the\n",
    "#                   data without any encoding. Binary mode file reflects the\n",
    "#                   raw data directly in the file.\n",
    "#                   Python treats file contents as \"bytes\" type. These modes\n",
    "#                   are used while dealing with non-text files like images,\n",
    "#                   audios, videos etc.\n",
    "\n",
    "\n",
    "# sample text mode\n",
    "\n",
    "f= open('text.txt',mode='r')\n",
    "data = f.read()\n",
    "print(data)\n",
    "f.close()\n",
    "print()\n",
    "# sample binary mode \n",
    "\n",
    "f= open('text.txt',mode='rb')\n",
    "data = f.read()\n",
    "print(data)\n",
    "f.close()"
   ]
  },
  {
   "cell_type": "code",
   "execution_count": 48,
   "metadata": {},
   "outputs": [
    {
     "name": "stdout",
     "output_type": "stream",
     "text": [
      "hello world\n",
      "\n",
      "this is t\n"
     ]
    }
   ],
   "source": [
    "# reading data from file\n",
    "# using methods    ----        1. read() 2. readline() 3. readlines()\n",
    "\n",
    " # sample read()\n",
    "\n",
    "f = open('text.txt',mode='r')\n",
    "data = f.read(11) # at this time file pointer is at 0 (if size is in -ve then it will take full size of file)\n",
    "data1= f.read(10) # at this time file pointer is at 11th index which is \\n means new line (defualt is also full size)\n",
    "print(data)\n",
    "print(data1)\n",
    "f.close()"
   ]
  },
  {
   "cell_type": "code",
   "execution_count": 54,
   "metadata": {},
   "outputs": [
    {
     "name": "stdout",
     "output_type": "stream",
     "text": [
      "hello world\n",
      "this is text.txt file\n",
      "\n",
      "hello world\n"
     ]
    }
   ],
   "source": [
    "# sample readline() -- used to read a single line from a file.\n",
    "\n",
    "f = open('text.txt',mode='r')\n",
    "data = f.readline()\n",
    "data1 = f.readline()\n",
    "\n",
    "print(data,end='')\n",
    "print(data1)\n",
    "\n",
    "# we can also set size of characters\n",
    "\n",
    "d= open('text.txt',mode='r')\n",
    "data2 = d.readline(5)\n",
    "data3 = d.readline(6)\n",
    "\n",
    "\n",
    "print(data2,end='')\n",
    "print(data3)"
   ]
  },
  {
   "cell_type": "code",
   "execution_count": 57,
   "metadata": {},
   "outputs": [
    {
     "name": "stdout",
     "output_type": "stream",
     "text": [
      "['hello world\\n', 'this is text.txt file\\n', 'this is third line of file']\n",
      "hello world\n",
      "this is text.txt file\n",
      "this is third line of file"
     ]
    }
   ],
   "source": [
    "# sample readlines() -- used to read all lines from a file and returns a list of lines.\n",
    "\n",
    "\n",
    "f = open('text.txt',mode='r')\n",
    "data = f.readlines()\n",
    "print(data)\n",
    "f.close()\n",
    "\n",
    "# for priting all lines\n",
    "\n",
    "for i in data:\n",
    "    print(i,end='') "
   ]
  },
  {
   "cell_type": "code",
   "execution_count": 59,
   "metadata": {},
   "outputs": [
    {
     "name": "stdout",
     "output_type": "stream",
     "text": [
      "hello world\n",
      "this is text.txt file\n",
      "this is third line of file"
     ]
    }
   ],
   "source": [
    "# reading file content using for loop\n",
    "\n",
    "f = open('text.txt',mode='r')\n",
    "for line in f:\n",
    "    print(line,end='')\n"
   ]
  },
  {
   "cell_type": "code",
   "execution_count": 64,
   "metadata": {},
   "outputs": [
    {
     "name": "stdout",
     "output_type": "stream",
     "text": [
      "0\n",
      "3\n",
      "62\n",
      "0\n",
      "hello world\n",
      "this is text.txt file\n",
      "this is third line of file\n"
     ]
    }
   ],
   "source": [
    "# file handling methods  -- using \n",
    "\n",
    "# 1. tell() -- find the current position of file pointer (starts from 0 just like indexing in string)\n",
    "\n",
    "f = open('text.txt',mode='r')\n",
    "print(f.tell()) # initially it is at 0\n",
    "f.read(3)\n",
    "print(f.tell()) # at this stage it is at 3rd index\n",
    "f.read()\n",
    "print(f.tell())\n",
    "\n",
    "\n",
    "# 2. seek()  -- used to change the position of file pointer\n",
    "\n",
    "f.seek(0) # it will change file pointer to index 0 \n",
    "print(f.tell())\n",
    "print(f.read())\n",
    "\n"
   ]
  },
  {
   "cell_type": "code",
   "execution_count": 65,
   "metadata": {},
   "outputs": [
    {
     "name": "stdout",
     "output_type": "stream",
     "text": [
      "Number of words are :  12\n",
      "Number of chars are :  58\n",
      "Number of lines are :  3\n"
     ]
    }
   ],
   "source": [
    "# program findign no of words and chars and lines in file\n",
    "\n",
    "f = open('text.txt',mode='r')\n",
    "number_of_words =0\n",
    "number_of_chars =0\n",
    "number_of_lines =0\n",
    "for line in f:\n",
    "    number_of_lines+=1\n",
    "    line=line.strip(\"\\n\")\n",
    "    number_of_chars+=len(line)\n",
    "    list=line.split()\n",
    "    number_of_words+=len(list)\n",
    "\n",
    "print(\"Number of words are : \",number_of_words)\n",
    "print(\"Number of chars are : \",number_of_chars)\n",
    "print(\"Number of lines are : \",number_of_lines)\n"
   ]
  },
  {
   "cell_type": "code",
   "execution_count": 83,
   "metadata": {},
   "outputs": [
    {
     "name": "stdout",
     "output_type": "stream",
     "text": [
      "11\n"
     ]
    }
   ],
   "source": [
    "# program writing data in file\n",
    "\n",
    "# methods for writing data 1. write() 2. writelines()\n",
    "\n",
    "# sample using write()\n",
    "\n",
    "f = open('new_file.txt',mode='w')\n",
    "f.write(\"hello world\\n\")\n",
    "n=f.write(\"hello\\nworld\")\n",
    "print(n)\n",
    "f.close()\n",
    "\n",
    "# sample using writelines() -- used to write group of lines(can be list,tuple,set) of strings into file\n",
    "\n",
    "f = open('third_file.txt',mode='w')\n",
    "lines_list = ['Paras ','Soni ','Raju ','Kumar ','Srishti ']\n",
    "f.writelines(lines_list)\n",
    "f.close()"
   ]
  },
  {
   "cell_type": "code",
   "execution_count": 80,
   "metadata": {},
   "outputs": [],
   "source": [
    "# copying content from one file to another file\n",
    "\n",
    "f = open('first_file.txt',mode='r',encoding='utf-8') # open file for reading data \n",
    "d = open('second_file.txt',mode='w',encoding='utf-8') # open file for writing data\n",
    "list_of_lines = f.readlines() # creating list of lines\n",
    "for line in list_of_lines:  # for each line writing into the file\n",
    "    d.write(line)\n",
    "\n",
    "# or\n",
    "\n",
    "for line in f:\n",
    "    d.write(line)\n",
    "\n",
    "\n",
    "f.close()\n",
    "d.close()"
   ]
  },
  {
   "cell_type": "code",
   "execution_count": 2,
   "metadata": {},
   "outputs": [],
   "source": [
    "# x (exclusive mode) -- used to write data in file only if file not exists already , it prevents data loss of previous file\n",
    "# as it write only in new file after creating it\n",
    "# it writes only in new line\n",
    "# mostly used for writing more then w mode\n",
    "\n",
    "\n",
    "data = \"My name is Paras Dattera\"\n",
    "f = open(\"fifth_file.txt\",mode='x')  # it will give error if file already exists\n",
    "f.write(data)\n",
    "f.close()"
   ]
  },
  {
   "cell_type": "code",
   "execution_count": null,
   "metadata": {},
   "outputs": [],
   "source": [
    "# merging multiple files data into one file\n",
    "import os\n",
    "\n",
    "files = []\n",
    "merged_data = \"\"\n",
    "\n",
    "while True:\n",
    "    f_name = input(\"Enter the file name: \")\n",
    "    files.append(f_name)\n",
    "    ans = input(\"You want to add another file?(y/n): \").lower()\n",
    "    if ans!='y':\n",
    "        break\n",
    "\n",
    "for file in files:\n",
    "    filename = file+'.txt'\n",
    "    if os.path.isfile(filename):\n",
    "        f=open(filename,mode='r',encoding='utf-8')\n",
    "        merged_data+=f.read()+'\\n'\n",
    "        f.close()\n",
    "\n",
    "\n",
    "print(merged_data)\n",
    "\n",
    "with open(input(\"Enter final file name: \")+'.txt',mode='x',encoding='utf-8') as f:\n",
    "    f.write(merged_data)\n",
    "    print('merging is done.')\n",
    "\n",
    "\n"
   ]
  },
  {
   "cell_type": "code",
   "execution_count": null,
   "metadata": {},
   "outputs": [],
   "source": [
    "# program for renaming multiple files at once\n",
    "# in os module we have rename function to rename file -- rename(old_name,new_name)\n",
    "\n",
    "import os\n",
    "\n",
    "# taking input of path of all files\n",
    "# replacing \\ with / as python support / for path\n",
    "path = input(\"Enter the path : \")\n",
    "path = path.replace('\\\\','/')\n",
    "print(path)\n",
    "\n",
    "# main function , we are going to use os.listdir(path) -- returns all files name inside the directory\n",
    "def main():\n",
    "    i=1\n",
    "    for filename in os.listdir(path):\n",
    "        new_name = path+\"car\"+str(i)+'.jpg'\n",
    "        old_name = path+filename\n",
    "        os.rename(old_name,new_name)\n",
    "        i=i+1\n",
    "\n",
    "\n",
    "main()\n"
   ]
  },
  {
   "cell_type": "code",
   "execution_count": 5,
   "metadata": {},
   "outputs": [
    {
     "name": "stdout",
     "output_type": "stream",
     "text": [
      "bye bye\n"
     ]
    }
   ],
   "source": [
    "# r+ and w+ mode\n",
    "\n",
    "# r+ means read and write mode and opens file without truncating it \n",
    "# use case of r+ is when you want to read data first and write(append) data to same file as the pointer after\n",
    "# reading will be shift to last index\n",
    "\n",
    "\n",
    "# w+ means write and read mode and opens if file exists with truncating it otherwise create new file\n",
    "# use case when you need to write data and read the same data after writing but you need to set the pointer to first index\n",
    "\n",
    "# f=open(\"data.txt\",mode='r+')\n",
    "# f.write(\"bye bye\") # if we write before reading data then it will override(replace) the new data with previous data\n",
    "\n",
    "# data = f.read()\n",
    "\n",
    "# f.close()\n",
    "\n",
    "\n",
    "\n",
    "f=open(\"data.txt\",mode='w+') # it will truncate all data then start write the data\n",
    "f.write(\"bye bye\") # if we write before reading data then it will override(replace) the new data with previous data\n",
    "\n",
    "f.seek(0)\n",
    "data = f.read() # nothing will be read as after writing the cursor pointer is at the end of last line.\n",
    "# we need to change file pointer for reading\n",
    "print(data)\n",
    "f.close()\n"
   ]
  }
 ],
 "metadata": {
  "kernelspec": {
   "display_name": "Python 3",
   "language": "python",
   "name": "python3"
  },
  "language_info": {
   "codemirror_mode": {
    "name": "ipython",
    "version": 3
   },
   "file_extension": ".py",
   "mimetype": "text/x-python",
   "name": "python",
   "nbconvert_exporter": "python",
   "pygments_lexer": "ipython3",
   "version": "3.11.4"
  }
 },
 "nbformat": 4,
 "nbformat_minor": 2
}
