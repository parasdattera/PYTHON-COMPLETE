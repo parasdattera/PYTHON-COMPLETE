{
 "cells": [
  {
   "cell_type": "code",
   "execution_count": 5,
   "metadata": {},
   "outputs": [
    {
     "name": "stdout",
     "output_type": "stream",
     "text": [
      "[10 20 30 40]\n",
      "<class 'numpy.ndarray'>\n"
     ]
    }
   ],
   "source": [
    "'''\n",
    "-----------          PYTHON NUMPY          -----------\n",
    "\n",
    "* NUMPY -- NUMERICAL PYTHON -- WHICH IS A PACKAGE/LIBRARY WHICH IS USED FOR SCIENTIFIC AND MATHAMETICAL\n",
    "                                CALCULATIONS AND MANY OTHER THINGS AS WELL\n",
    "\n",
    "\n",
    "\n",
    "'''\n",
    "\n",
    "\n",
    "import numpy as np\n",
    "\n",
    "arr = np.array([10,20,30,40])\n",
    "print(arr)\n",
    "print(type(arr))\n"
   ]
  }
 ],
 "metadata": {
  "kernelspec": {
   "display_name": "Python 3",
   "language": "python",
   "name": "python3"
  },
  "language_info": {
   "codemirror_mode": {
    "name": "ipython",
    "version": 3
   },
   "file_extension": ".py",
   "mimetype": "text/x-python",
   "name": "python",
   "nbconvert_exporter": "python",
   "pygments_lexer": "ipython3",
   "version": "3.11.4"
  }
 },
 "nbformat": 4,
 "nbformat_minor": 2
}
