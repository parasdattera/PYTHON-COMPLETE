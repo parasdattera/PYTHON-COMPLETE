{
 "cells": [
  {
   "cell_type": "code",
   "execution_count": 1,
   "metadata": {},
   "outputs": [
    {
     "name": "stdout",
     "output_type": "stream",
     "text": [
      "['2023-09-17', '2023-09-19']\n"
     ]
    }
   ],
   "source": [
    "''' ____ REGULAR EXPRESSION (Regex) ___\n",
    "\n",
    "* special search pattern to find and manipulate text\n",
    "* code/way of describing what kind of text you're looking for in a bigger chunk of text.\n",
    "* applications - \n",
    "            1. data validation such as mobile number validation ,emial validation \n",
    "            2. pattern matching applications -- functionality of ctrl-f and replace\n",
    "            3. to create translators -- compilers, interpreters , syntax analysis and lexical analysis\n",
    "            4. data extraction \n",
    "            5. data cleaning\n",
    "            6. web scraping -- for extracting specific content\n",
    "            7. password policies\n",
    "\n",
    "\n",
    "'''\n",
    "\n",
    "# sample program to into to regex\n",
    "\n",
    "\n",
    "#Python program for extracting dates from given text\n",
    "import re # built in module for working with regular expressions\n",
    "\n",
    "# Sample text containing dates we need to extract date from this sentence\n",
    "text =  \"On 2023-09-17, the conference will begin. The event will end on 2023-09-19.\"\n",
    "\n",
    "# Regex pattern to match dates in the format YYYY-MM-DD -- will be used to extract requied data from data\n",
    "date_pattern = r\"\\d{4}-\\d{2}-\\d{2}\"\n",
    "\n",
    "# Find all matches of the date pattern in the text\n",
    "dates = re.findall(date_pattern,text)\n",
    "# Print the extracted dates\n",
    "print(dates)"
   ]
  },
  {
   "cell_type": "code",
   "execution_count": 7,
   "metadata": {},
   "outputs": [
    {
     "name": "stdout",
     "output_type": "stream",
     "text": [
      "<re.Match object; span=(11, 16), match='Paras'>\n",
      "<class 're.Match'>\n"
     ]
    }
   ],
   "source": [
    "# BASIC SEARCH FUNCITONS presents in re\n",
    "\n",
    "''' methods\n",
    "\n",
    "1. search()\n",
    "2. match()\n",
    "3. finditer()\n",
    "4. findall()\n",
    "5. split()\n",
    "\n",
    "'''\n",
    "\n",
    "\n",
    "# search method\n",
    "\n",
    "import re\n",
    "\n",
    "pattern = \"Paras\" # pattern to search\n",
    "data = \"My name is Paras\" # data where pattern will be find\n",
    "match = re.search(pattern,data)\n",
    "print(match)\n",
    "print(type(match))\n",
    "\n",
    "\n",
    "\n"
   ]
  },
  {
   "cell_type": "code",
   "execution_count": 9,
   "metadata": {},
   "outputs": [
    {
     "name": "stdout",
     "output_type": "stream",
     "text": [
      "<re.Match object; span=(11, 16), match='PARAS'>\n",
      "<class 're.Match'>\n"
     ]
    }
   ],
   "source": [
    "# search method using flags(third optional argument such as IGNORECASE)\n",
    "\n",
    "import re\n",
    "\n",
    "pattern = \"paras\" # pattern to search\n",
    "data = \"My name is PARAS\" # data where pattern will be find\n",
    "match = re.search(pattern,data,re.IGNORECASE)\n",
    "print(match)\n",
    "print(type(match))\n"
   ]
  },
  {
   "cell_type": "code",
   "execution_count": 25,
   "metadata": {},
   "outputs": [
    {
     "name": "stdout",
     "output_type": "stream",
     "text": [
      "<re.Match object; span=(0, 5), match='PARAS'>\n",
      "None\n"
     ]
    }
   ],
   "source": [
    "# match method -- search pattern at the beginning of a string\n",
    "\n",
    "\n",
    "# import re\n",
    "# # always use raw string i.e.. r\"string\" to avoid any escape sequence characters\n",
    "# pattern = r\"p\\naras\" # pattern to search\n",
    "# data = \"PARAS is my name\" # data where pattern will be find\n",
    "# data1 = \"hello is my name\"\n",
    "# match = re.match(pattern,data,re.IGNORECASE)\n",
    "# match1 = re.match(pattern,data1)\n",
    "\n",
    "# print(match)\n",
    "# print(match1)\n",
    "# print(type(match))\n",
    "# print(type(match1))\n",
    "\n",
    "\n",
    "# TYPE OF WAYS TO USE regular expressions\n",
    "'''         1. directly [patterns (as strings)] -- as done in previous programs\n",
    "            2. regular expression objects -- using a re.complie(patterns,flags) to create a re objects\n",
    "                                             it is used much because it increase efficiency              \n",
    "\n",
    "'''\n",
    "\n",
    "\n",
    "# sample regular expression objects\n",
    "\n",
    "import re\n",
    "# always use raw string i.e.. r\"string\" to avoid any escape sequence characters\n",
    "pattern = re.compile(\"paras\",re.IGNORECASE) # pattern to search\n",
    "data = \"PARAS is my name\" # data where pattern will be find\n",
    "data1 = \"hello is my name\"\n",
    "match = re.match(pattern,data)\n",
    "match1 = re.match(pattern,data1)\n",
    "print(match)\n",
    "print(match1)\n",
    "\n"
   ]
  },
  {
   "cell_type": "code",
   "execution_count": 40,
   "metadata": {},
   "outputs": [
    {
     "name": "stdout",
     "output_type": "stream",
     "text": [
      "<re.Match object; span=(6, 9), match='Dog'>\n",
      "<re.Match object; span=(25, 28), match='cat'>\n",
      "<re.Match object; span=(33, 36), match='cat'>\n",
      "<re.Match object; span=(49, 52), match='dog'>\n"
     ]
    }
   ],
   "source": [
    "# re.finditer() method \n",
    "\n",
    "# syntax -- re.finditer(pattern,data,flags=0)\n",
    "\n",
    "# import re\n",
    "\n",
    "# pattern = re.compile('ab',re.IGNORECASE)\n",
    "# data = 'abaababa'\n",
    "# match_iter = re.finditer(pattern,data)\n",
    "\n",
    "# coutn = 0\n",
    "\n",
    "# for match in match_iter:\n",
    "#     coutn+=1\n",
    "#     print(match.group()) # we can use group(),start(),end()\n",
    "# print(coutn)\n",
    "\n",
    "\n",
    "'''\n",
    "total occurences =3\n",
    "first =0\n",
    "second=3\n",
    "third= 5\n",
    "'''\n",
    "\n",
    "\n",
    "# re.findall() method -- return list of all matches\n",
    "\n",
    "\n",
    "\n",
    "import re\n",
    "\n",
    "# pattern = re.compile('ab',re.IGNORECASE)\n",
    "# data = 'abaababa'\n",
    "# match_list = re.findall(pattern,data)\n",
    "# print(match_list)\n",
    "\n",
    "pattern = re.compile('dog|cat',re.IGNORECASE)\n",
    "data = \"i saw Dog running behind cat and cat climbed but dog couldn't\"\n",
    "match_iter = re.finditer(pattern,data)\n",
    "\n",
    "for match in match_iter:\n",
    "    print(match)\n",
    "\n",
    "\n",
    "# remember these functions will find all non-overlapping matches of patterns"
   ]
  },
  {
   "cell_type": "code",
   "execution_count": 47,
   "metadata": {},
   "outputs": [
    {
     "name": "stdout",
     "output_type": "stream",
     "text": [
      "0 --> H 1 --> e 2 --> l 3 --> l 4 --> o 5 -->   6 --> , 7 -->   8 --> m 9 --> y 10 -->   11 --> p 12 --> h 13 --> o 14 --> n 15 --> e 16 -->   17 --> n 18 --> u 19 --> m 20 --> b 21 --> e 22 --> r 23 -->   24 --> i 25 --> s 26 -->   "
     ]
    }
   ],
   "source": [
    "''' ____ CHARACTER CLASS IN PYTHON\n",
    "\n",
    "A character class typically refers to a set of chåracters\n",
    "that you can define using regular expressions\n",
    "\n",
    "Character classes are used to specify range or group of\n",
    "characters you want to search in data\n",
    "\n",
    "\n",
    "[abc]: Matches any one of the characters 'a','b', or c\n",
    "[Aabc]: Matches any character that is not 'a', 'b'or 'c'\n",
    "[0-9]: Matches any digit from '0' to\n",
    "[A-Z]: Matches any uppercase letter from 'A' to 'Z' .\n",
    "[a-z]: Matches any lowercase letter from 'a' to 'z' .\n",
    "[A-Za-z]: Matches any uppercase or lowercase letter.\n",
    "[0-9A-Fa-f]: Matches a hexadecimal digit (0-9, A-F, or a-f).\n",
    "[a-zA-Z0-9]: Matches any alphanumeric character.\n",
    "[0-9]: Matches any character that is not a digit.\n",
    "[^A-Za-z]: Matches any character that is not an uppercase or lowercase letter.\n",
    "\n",
    "\n",
    "\n",
    "to find escape sequence characters ---\n",
    "\n",
    "\\d : digit character\n",
    "\\D : non-digit character\n",
    "\\w : word character (alphanumeric plus underscore)\n",
    "\\W : non-word character\n",
    "\\s : white space character ( spaces,tabs,newlines ,etc.)\n",
    "\\S : non-whitespaces characters\n",
    "\\b : word boundary- for searching specific words in a text having white space at left and right end\n",
    "\\A : startswith - for finding if sentence or words staring with specific characters\n",
    "\\Z : endswith - for finding if sentence or words ending with specific characters\n",
    ".  : every character\n",
    "\n",
    "and for finding the characters,special symbol such as [.,[],\\w,any escape sequence characters]\n",
    "we need to use one \\\n",
    "'''\n",
    "\n",
    "# sample\n",
    "\n",
    "# import re\n",
    "\n",
    "# pattern = r'[0-9]' # [^0-9] means excluding this give all\n",
    "# data = \"The price is $100\"\n",
    "# matchlist = re.findall(pattern,data)\n",
    "\n",
    "# print(matchlist)\n",
    "\n",
    "# sample program -- creating condition for password -- \n",
    "#             contains at least one digit or at least one uppercase letter\n",
    "\n",
    "# import re\n",
    "\n",
    "# password = input(\"Enter password: \")\n",
    "# pattern = '[0-9A-Z]'\n",
    "\n",
    "# data = re.findall(pattern,password)\n",
    "# print(data)\n",
    "\n",
    "\n",
    "\n",
    "import re\n",
    "\n",
    "text = \"Hello , my phone number is 123\"\n",
    "pattern = r'\\D'\n",
    "result = re.finditer(pattern,text)\n",
    "for match in result:\n",
    "    print(match.start(),\"-->\",match.group(),end=\" \")"
   ]
  },
  {
   "cell_type": "code",
   "execution_count": 54,
   "metadata": {},
   "outputs": [
    {
     "name": "stdout",
     "output_type": "stream",
     "text": [
      "['lll', 'l']\n"
     ]
    }
   ],
   "source": [
    "# METACHARACTERS  in python\n",
    "\n",
    "# meta charactes are -- (.,^,$,*,+,?,[],|,\\,(...),[^...])\n",
    "# these can be used as they hold special meaning \n",
    "\n",
    "# . means it will return all characters from string except new line character(\\n)\n",
    "# + means it will return character atleast one or more repitions\n",
    "import re   \n",
    "data = \"helllo world\"\n",
    "pattern = r'l+'\n",
    "matches = re.findall(pattern,data)\n",
    "print(matches)\n"
   ]
  },
  {
   "cell_type": "code",
   "execution_count": 59,
   "metadata": {},
   "outputs": [
    {
     "name": "stdout",
     "output_type": "stream",
     "text": [
      "['parasdattera555@gmail.com']\n"
     ]
    }
   ],
   "source": [
    "#  create program to find or extract email id from text\n",
    "\n",
    "import re\n",
    "\n",
    "data = \"my email id is parasdattera555@gmail.com\"\n",
    "pattern = r'\\w+@\\w+\\.\\w+'\n",
    "email_address = re.findall(pattern,data)\n",
    "print(email_address)\n"
   ]
  },
  {
   "cell_type": "code",
   "execution_count": 67,
   "metadata": {},
   "outputs": [
    {
     "name": "stdout",
     "output_type": "stream",
     "text": [
      "['h', 'e', 'l', 'l', 'o', ' ', 'w', 'o', 'r', 'l', 'd']\n"
     ]
    }
   ],
   "source": [
    "#^ symbol used to find theat pattern should match at the beginning of the input\n",
    "#^ negation of character classes (use it like r\"[^0-9]\") except 0-9 digits all characters will be retreived\n",
    "\n",
    "import re\n",
    "\n",
    "# pattern = r\"^world\"\n",
    "# data = \"hello world\"\n",
    "# result = re.findall(pattern,data)\n",
    "# print(result)\n",
    "\n",
    "\n",
    "\n",
    "pattern = r\"[^0-9]\"\n",
    "data = \"hello1 2world\"\n",
    "result = re.findall(pattern,data)\n",
    "print(result)"
   ]
  }
 ],
 "metadata": {
  "kernelspec": {
   "display_name": "Python 3",
   "language": "python",
   "name": "python3"
  },
  "language_info": {
   "codemirror_mode": {
    "name": "ipython",
    "version": 3
   },
   "file_extension": ".py",
   "mimetype": "text/x-python",
   "name": "python",
   "nbconvert_exporter": "python",
   "pygments_lexer": "ipython3",
   "version": "3.11.4"
  }
 },
 "nbformat": 4,
 "nbformat_minor": 2
}
