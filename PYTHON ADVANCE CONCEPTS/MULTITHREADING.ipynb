{
 "cells": [
  {
   "cell_type": "code",
   "execution_count": 8,
   "metadata": {},
   "outputs": [
    {
     "name": "stdout",
     "output_type": "stream",
     "text": [
      "<bound method Thread.is_alive of <_MainThread(MainThread, started 29000)>>\n"
     ]
    }
   ],
   "source": [
    "'''           ________ MULTI THREADING ______       '''\n",
    "\n",
    "'''\n",
    "\n",
    "* executing multiple tasks at same time\n",
    "* types \n",
    "        1. process based multi-tasking:-\n",
    "                                    -each task is an independent program/process\n",
    "                                    -used in OS level\n",
    "        2. thread based multi-tasking\n",
    "                                    -each task is an independent thread(separate part of program)\n",
    "                                    -used in programmatic level\n",
    "\n",
    "* python provides built in threading module to implement multithreading\n",
    "* thread is operating system object that executes instructions/programs\n",
    "* thread represent task/sub program\n",
    "* a thread is a separate flow of execution in program\n",
    "* threads are python objects of threading.Thread() class and main thread is also object of Thread clas                                 \n",
    "\n",
    "* Main thread -- when we start running our program in python then \n",
    "                python interpreter starts and request OS for creating one thread called as Main thread\n",
    "\n",
    "                any process have at least one default thread called as main thread.\n",
    "\n",
    "                main thread is created by PVM(python virtual machine) interpreter\n",
    "'''\n",
    "\n",
    "import threading\n",
    "\n",
    "# print(threading.currentThread()) # it will return object named -- main thread and process id no(thread id). \n",
    "# print(threading.currentThread().name)\n",
    "print(threading.current_thread().is_alive)\n",
    "\n"
   ]
  },
  {
   "cell_type": "code",
   "execution_count": 17,
   "metadata": {},
   "outputs": [
    {
     "name": "stdout",
     "output_type": "stream",
     "text": [
      "hello\n",
      "hello\n",
      "hello\n",
      "hello\n",
      "hello world\n",
      "hello world\n",
      "hello world\n",
      "hello world\n"
     ]
    }
   ],
   "source": [
    "# ways of creating threads :\n",
    "\n",
    "# 1. using Thread class present in threading module.\n",
    "# 2. by extending Thread class\n",
    "\n",
    "# sample using Thread class\n",
    "'''\n",
    "Step-1:- Import Thread class from threading module.\n",
    "Step-2:- Create a function containing code to be executed parallaly.\n",
    "Step-3:- Create an object of Thread class.\n",
    "Step-4:- Start created thread using start() method.\n",
    "'''\n",
    "from threading import Thread\n",
    "def display(n,msg):\n",
    "    for i in range(n):\n",
    "        print(msg)\n",
    "\n",
    "t1 = Thread(target=display,args=(4,\"hello\"))\n",
    "t2 = Thread(target=display,args=(4,\"hello world\"))\n",
    "\n",
    "t1.start()\n",
    "t2.start()\n"
   ]
  },
  {
   "cell_type": "code",
   "execution_count": 6,
   "metadata": {},
   "outputs": [
    {
     "name": "stdout",
     "output_type": "stream",
     "text": [
      "hello world\n",
      "hello world\n",
      "hello world\n",
      "hello world\n",
      "hello world\n"
     ]
    }
   ],
   "source": [
    "# creating threads for methods\n",
    "\n",
    "from threading import Thread\n",
    "\n",
    "class Example:\n",
    "    @staticmethod\n",
    "    def display(n):\n",
    "        for i in range(5):\n",
    "            print(\"hello world\")\n",
    "\n",
    "e1=Example()\n",
    "t1=Thread(target=Example.display,args=(5,))\n",
    "t1.start()"
   ]
  },
  {
   "cell_type": "code",
   "execution_count": 16,
   "metadata": {},
   "outputs": [
    {
     "name": "stdout",
     "output_type": "stream",
     "text": [
      "constructor called\n",
      "video compressed.\n",
      "OOPS SYLLABUS started uploading...\n",
      "OOPS SYLLABUS uploaded.\n",
      "CONSTRUCTOR started uploading...\n",
      "CONSTRUCTOR uploaded.\n",
      "DESTRUCTOR started uploading...\n",
      "DESTRUCTOR uploaded.\n",
      "FILE HANDLING started uploading...\n",
      "FILE HANDLING uploaded.\n",
      "MULTI THREADING started uploading...\n",
      "MULTI THREADING uploaded.\n",
      "30\n",
      "checking copyrights.\n",
      "checking copyrights.\n",
      "checking copyrights.\n",
      "checking copyrights.\n",
      "checking copyrights.\n"
     ]
    }
   ],
   "source": [
    "# creating threads by extending Thread class | run() method\n",
    "\n",
    "from threading import Thread\n",
    "from time import sleep\n",
    "videos=['OOPS SYLLABUS','CONSTRUCTOR','DESTRUCTOR','FILE HANDLING','MULTI THREADING']\n",
    "\n",
    "class myclass(Thread):\n",
    "    def __init__(self,val):\n",
    "        print(\"constructor called\")\n",
    "        self.kid=val\n",
    "        Thread.__init__(self)\n",
    "    def compression(self):\n",
    "        print(\"video compressed.\")\n",
    "    def run(self):\n",
    "        a=10\n",
    "        b=20\n",
    "        self.compression()\n",
    "        if self.kid:\n",
    "            print(\"suitable for kid.\")\n",
    "        for vid in videos:\n",
    "            print(f\"{vid} started uploading...\")\n",
    "            sleep(1)\n",
    "            print(f\"{vid} uploaded.\")\n",
    "        self.temp=a+b\n",
    "\n",
    "t1=myclass(False)\n",
    "t1.start()\n",
    "sleep(7)\n",
    "print(t1.temp)\n",
    "\n",
    "for i in range(5):\n",
    "    print(\"checking copyrights.\")\n",
    "\n",
    "\n",
    "\n",
    "# biggest advantage of using this way as compared to normal approach is that we can access the variable \n",
    "# from class outside the class"
   ]
  },
  {
   "cell_type": "code",
   "execution_count": null,
   "metadata": {},
   "outputs": [],
   "source": [
    "'''      Configuring thread names  |  Threading identity numbers'''"
   ]
  }
 ],
 "metadata": {
  "kernelspec": {
   "display_name": "Python 3",
   "language": "python",
   "name": "python3"
  },
  "language_info": {
   "codemirror_mode": {
    "name": "ipython",
    "version": 3
   },
   "file_extension": ".py",
   "mimetype": "text/x-python",
   "name": "python",
   "nbconvert_exporter": "python",
   "pygments_lexer": "ipython3",
   "version": "3.11.4"
  }
 },
 "nbformat": 4,
 "nbformat_minor": 2
}
