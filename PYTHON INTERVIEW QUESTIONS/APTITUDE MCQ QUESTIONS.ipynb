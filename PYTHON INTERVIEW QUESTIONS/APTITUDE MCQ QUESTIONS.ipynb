{
 "cells": [
  {
   "cell_type": "code",
   "execution_count": null,
   "metadata": {},
   "outputs": [],
   "source": [
    "# 1 -- what will be the output of below.\n",
    "\n",
    "print(True + 1) \n",
    "print(False + 1)\n",
    "a = True + 1\n",
    "b = False + 1\n",
    "print(a , b)\n",
    "\n",
    "\n",
    "'''\n",
    "explanation --\n",
    "\n",
    "true is considered as 1 and false as 0 \n",
    "\n",
    "'''"
   ]
  },
  {
   "cell_type": "code",
   "execution_count": null,
   "metadata": {},
   "outputs": [],
   "source": [
    "# 2 -- find invalid identifier.\n",
    "\n",
    "_ = 10\n",
    "_a_ = 10\n",
    "_a = 10\n",
    "__a = 10\n",
    "\n",
    "\n",
    "\n",
    "'''\n",
    "explanation --\n",
    "\n",
    "1variable = 10  # Invalid because it starts with a digit\n",
    "variable$ = 20  # Invalid because it contains a special character ($)\n",
    "var name = 50  # Invalid because it contains a space\n",
    "class = 70  # Invalid because 'class' is a reserved keyword\n",
    "var-name = 90  # Invalid because it contains a hyphen (-)\n",
    "\n",
    "'''"
   ]
  },
  {
   "cell_type": "code",
   "execution_count": 17,
   "metadata": {},
   "outputs": [
    {
     "name": "stdout",
     "output_type": "stream",
     "text": [
      "True\n",
      "True\n"
     ]
    }
   ],
   "source": [
    "# 3 -- what would be the correct result .\n",
    "\n",
    "0.2+0.2+0.2 == 0.6\n",
    "\n",
    "'''\n",
    "explanation -- \n",
    "\n",
    "floating point values in python are treated as approximate values for example below\n",
    "\n",
    "0.2 can be considered as 0.20000000001 which can be result in false while comparing with floating point values\n",
    "\n",
    "but if the exact same floating point value then it would give true\n",
    "\n",
    "0.6 == 0.6 will return true\n",
    "but 0.2 +0.2 +0.2 == 0.6 will return false\n",
    "'''\n",
    "\n",
    "print(0.2 +0.2 +0.2 == 0.6)\n",
    "print(0.6==0.6)  "
   ]
  },
  {
   "cell_type": "code",
   "execution_count": 24,
   "metadata": {},
   "outputs": [
    {
     "name": "stdout",
     "output_type": "stream",
     "text": [
      "3.0\n",
      "2.0\n",
      "-4\n"
     ]
    },
    {
     "ename": "",
     "evalue": "",
     "output_type": "error",
     "traceback": [
      "\u001b[1;31mThe Kernel crashed while executing code in the current cell or a previous cell. \n",
      "\u001b[1;31mPlease review the code in the cell(s) to identify a possible cause of the failure. \n",
      "\u001b[1;31mClick <a href='https://aka.ms/vscodeJupyterKernelCrash'>here</a> for more info. \n",
      "\u001b[1;31mView Jupyter <a href='command:jupyter.viewOutput'>log</a> for further details."
     ]
    }
   ],
   "source": [
    "# 3 -- predict result .\n",
    "\n",
    "x = 15.8\n",
    "y = 4\n",
    "print(x//y)\n",
    "\n",
    "\n",
    "a = 4\n",
    "b = 2.0\n",
    "print(a//b)\n",
    "\n",
    "'''\n",
    "explanation\n",
    "\n",
    "it would give 3.0 , 2.0 floating point value in answers as one of the operands has float value\n",
    "\n",
    "if both are int values only then it would give int value also doing floor operation\n",
    "also give attention when there is -ve values in as operands as floor operation will give round down to something like this for example\n",
    "\n",
    "-3.3333 rounded down is -4\n",
    "\n",
    "'''\n",
    "c = -30\n",
    "d = 9\n",
    "print(c//d)\n"
   ]
  }
 ],
 "metadata": {
  "kernelspec": {
   "display_name": "Python 3",
   "language": "python",
   "name": "python3"
  },
  "language_info": {
   "codemirror_mode": {
    "name": "ipython",
    "version": 3
   },
   "file_extension": ".py",
   "mimetype": "text/x-python",
   "name": "python",
   "nbconvert_exporter": "python",
   "pygments_lexer": "ipython3",
   "version": "3.12.4"
  }
 },
 "nbformat": 4,
 "nbformat_minor": 2
}
